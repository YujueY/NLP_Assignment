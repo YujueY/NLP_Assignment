{
 "cells": [
  {
   "cell_type": "code",
   "execution_count": 1,
   "metadata": {},
   "outputs": [],
   "source": [
    "from sklearn import datasets\n",
    "import matplotlib.pyplot as plt\n",
    "from sklearn.model_selection import train_test_split"
   ]
  },
  {
   "cell_type": "code",
   "execution_count": 2,
   "metadata": {},
   "outputs": [],
   "source": [
    "# Loading the data \n",
    "digits = datasets.load_digits()"
   ]
  },
  {
   "cell_type": "code",
   "execution_count": 3,
   "metadata": {},
   "outputs": [
    {
     "data": {
      "image/png": "[encoded data removed]",
      "text/plain": [
       "<Figure size 432x288 with 10 Axes>"
      ]
     },
     "metadata": {},
     "output_type": "display_data"
    }
   ],
   "source": [
    "for i in range(1,11):\n",
    "    # 行数，列数，索引值\n",
    "    plt.subplot(2,5,i)\n",
    "    # 参数：cmap 将标量数据映射到色彩图\n",
    "    plt.imshow(digits.data[i-1].reshape([8,8]),cmap=plt.cm.gray_r)\n",
    "    # x, y : scalars 放置text的位置\n",
    "    # s : str 内容text\n",
    "    plt.text(3,10,str(digits.target[i-1]))\n",
    "    # 设置x轴\n",
    "    plt.xticks([])\n",
    "    # 设置y轴\n",
    "    plt.yticks([])\n",
    "plt.show()"
   ]
  },
  {
   "cell_type": "code",
   "execution_count": 4,
   "metadata": {},
   "outputs": [],
   "source": [
    "# 划分训练集和测试集\n",
    "X_train, X_test, y_train, y_test = train_test_split(digits.data, digits.target, test_size = 0.25)"
   ]
  },
  {
   "cell_type": "code",
   "execution_count": 5,
   "metadata": {},
   "outputs": [],
   "source": [
    "# 定义标签，大于5为1，小于5为0\n",
    "y_train[y_train < 5 ] = 0\n",
    "y_train[y_train >= 5] = 1\n",
    "y_test[y_test < 5] = 0\n",
    "y_test[y_test >= 5] = 1"
   ]
  },
  {
   "cell_type": "code",
   "execution_count": 6,
   "metadata": {},
   "outputs": [
    {
     "name": "stdout",
     "output_type": "stream",
     "text": [
      "(1347, 64)\n",
      "[[ 0.  0.  8. 16. 14. 15.  0.  0.  0.  0. 13. 11. 15. 11.  0.  0.  0.  4.\n",
      "  14.  1. 13.  5.  0.  0.  0.  3.  7.  8. 16.  4.  3.  0.  0.  0. 14. 16.\n",
      "  16. 13.  7.  0.  0.  0.  5. 13.  2.  0.  0.  0.  0.  0.  6. 10.  0.  0.\n",
      "   0.  0.  0.  0. 10.  6.  0.  0.  0.  0.]\n",
      " [ 0.  0.  6. 10.  9.  4.  0.  0.  0.  0. 14. 10. 16. 16.  1.  0.  0.  4.\n",
      "  15.  1.  9. 16.  0.  0.  0.  3. 16. 16. 16.  8.  0.  0.  0.  0. 12. 14.\n",
      "  16.  5.  0.  0.  0.  0. 12.  1.  9. 12.  0.  0.  0.  0. 16.  6. 14.  9.\n",
      "   0.  0.  0.  0.  8. 12.  6.  1.  0.  0.]]\n",
      "(450, 64)\n",
      "(1347,)\n",
      "(450,)\n"
     ]
    }
   ],
   "source": [
    "print(X_train.shape)\n",
    "print(X_train[:2, :])\n",
    "print(X_test.shape)\n",
    "print(y_train.shape)\n",
    "print(y_test.shape)"
   ]
  },
  {
   "cell_type": "code",
   "execution_count": 7,
   "metadata": {},
   "outputs": [],
   "source": [
    "# 定义激活函数\n",
    "def sigmoid(z):\n",
    "    s = 1/(1 + np.exp(-1 * z))\n",
    "    return s"
   ]
  },
  {
   "cell_type": "code",
   "execution_count": 8,
   "metadata": {},
   "outputs": [
    {
     "name": "stdout",
     "output_type": "stream",
     "text": [
      "sigmoid([0,2]) = [0.5        0.88079708]\n"
     ]
    }
   ],
   "source": [
    "import numpy as np\n",
    "print(\"sigmoid([0,2]) = \" + str(sigmoid(np.array([0,2]))))"
   ]
  },
  {
   "cell_type": "code",
   "execution_count": 9,
   "metadata": {},
   "outputs": [],
   "source": [
    "# 初始化参数\n",
    "def initialize_parameters(dim):\n",
    "    '''\n",
    "    Argument: dim -- size of the w vector\n",
    "    \n",
    "    Returns:\n",
    "    w -- initialized vector of shape (dim,1)\n",
    "    b -- initializaed scalar\n",
    "    '''\n",
    "    \n",
    "    w = np.random.randn(dim, 1)\n",
    "    # X_train有64个样本，则dim为64，w64*1\n",
    "    b = 0\n",
    "\n",
    "    assert(w.shape == (dim,1))\n",
    "    assert(isinstance(b,float) or isinstance(b,int))\n",
    "    \n",
    "    return w,b"
   ]
  },
  {
   "cell_type": "code",
   "execution_count": 10,
   "metadata": {},
   "outputs": [
    {
     "data": {
      "text/plain": [
       "(array([[ 1.42770802],\n",
       "        [-1.46158354]]), 0)"
      ]
     },
     "execution_count": 10,
     "metadata": {},
     "output_type": "execute_result"
    }
   ],
   "source": [
    "initialize_parameters(2)"
   ]
  },
  {
   "cell_type": "code",
   "execution_count": 11,
   "metadata": {},
   "outputs": [],
   "source": [
    "# 前后向传播\n",
    "def propagate(w,b,X,Y):\n",
    "\n",
    "    m = X.shape[0]\n",
    "\n",
    "    # A:1*1347\n",
    "    A = sigmoid(np.dot(w.T, X.T) + b)\n",
    "    cost = 0\n",
    "    for i in range(len(Y)):\n",
    "        k = A[0][i]\n",
    "        if k == 1 or k == 0:\n",
    "            cost += 0\n",
    "        else:\n",
    "            j = Y[i] * np.log(A[0][i]) + (1 - Y[i]) * np.log(1 - A[0][i])\n",
    "            cost += j\n",
    "    cost = (-1 / m) * cost\n",
    "    dw = 1 / m * np.dot(X.T, (A.T - np.array(Y).reshape((len(Y),1))))\n",
    "    db = 1 / m * sum(A[0][i] - Y[i] for i in range(len(Y)))\n",
    "    assert(dw.shape == w.shape)\n",
    "    assert(db.dtype == float)\n",
    "    # 把shape中为1的维度去掉\n",
    "    cost = np.squeeze(cost)\n",
    "    assert(cost.shape == ())\n",
    "    \n",
    "    grads = {'dw':dw,\n",
    "             'db':db}\n",
    "    return grads, cost"
   ]
  },
  {
   "cell_type": "code",
   "execution_count": 12,
   "metadata": {},
   "outputs": [],
   "source": [
    "# 梯度下降\n",
    "def optimize(w, b, X, Y, num_iterations, learning_rate, print_cost=False):\n",
    "    costs = []\n",
    "    \n",
    "    for i in range(num_iterations):\n",
    "        \n",
    "        grads, cost = propagate(w,b,X,Y)\n",
    "        \n",
    "        dw = grads['dw']\n",
    "        db = grads['db']\n",
    "        w = w - 1 * dw * learning_rate\n",
    "        b = b - 1 * db * learning_rate\n",
    "        \n",
    "        if i % 100 == 0:\n",
    "            costs.append(cost)\n",
    "        if print_cost and i % 100 == 0:\n",
    "            print (\"Cost after iteration %i: %f\" %(i, cost))\n",
    "    \n",
    "    params = {\"w\":w,\n",
    "              \"b\":b}\n",
    "    \n",
    "    grads = {\"dw\":dw,\n",
    "             \"db\":db}\n",
    "    \n",
    "    return params, grads, costs"
   ]
  },
  {
   "cell_type": "code",
   "execution_count": 13,
   "metadata": {},
   "outputs": [],
   "source": [
    "# 预测\n",
    "def predict(w, b, X):\n",
    "    m = X.shape[0]\n",
    "    Y_prediction = np.zeros((1,m))\n",
    "    \n",
    "    A = sigmoid(np.dot(w.T, X.T) + b)\n",
    "    \n",
    "    for i in range(A.shape[1]):\n",
    "        if A[0][i] > 0.5:\n",
    "            Y_prediction[0][i] = 1\n",
    "        else:\n",
    "            Y_prediction[0][i] = 0\n",
    "    \n",
    "    assert(Y_prediction.shape == (1,m))\n",
    "    \n",
    "    return Y_prediction"
   ]
  },
  {
   "cell_type": "code",
   "execution_count": 14,
   "metadata": {},
   "outputs": [],
   "source": [
    "# 构建模型\n",
    "def model(X_train, Y_train, X_test, Y_test, num_iterations, learning_rate,print_cost):\n",
    "    w, b = initialize_parameters(X_train.shape[1])\n",
    "    params, grads, costs = optimize(w, b, X_train, Y_train, num_iterations, learning_rate, print_cost=False)\n",
    "    w = params[\"w\"]\n",
    "    b = params[\"b\"]\n",
    "    d = {}\n",
    "    d[\"w\"] = w\n",
    "    d[\"b\"] = b\n",
    "    d[\"cost\"] = costs\n",
    "    Y_train_predict = predict(w, b, X_train)\n",
    "    Y_test_predict = predict(w, b, X_test)\n",
    "    count_train = 0\n",
    "    count_test = 0\n",
    "    for i in range(len(Y_train)):\n",
    "        if Y_train_predict[0][i] == Y_train[i]:\n",
    "            count_train += 1\n",
    "    for i in range(len(Y_test)):\n",
    "        if Y_test_predict[0][i] == Y_test[i]:\n",
    "            count_test += 1\n",
    "    d[\"training_accuracy\"] = count_train / len(Y_train)\n",
    "    d[\"test_accuracy\"] = count_test / len(Y_test)\n",
    "    \n",
    "    return d"
   ]
  },
  {
   "cell_type": "code",
   "execution_count": 15,
   "metadata": {},
   "outputs": [
    {
     "name": "stdout",
     "output_type": "stream",
     "text": [
      "{'w': array([[-1.49611026e-01],\n",
      "       [-7.21162618e-01],\n",
      "       [-2.03817404e-03],\n",
      "       [-5.21798240e-01],\n",
      "       [-1.48704068e-01],\n",
      "       [ 6.52098763e-01],\n",
      "       [ 5.35480006e-01],\n",
      "       [-4.97386952e-01],\n",
      "       [ 1.20105467e-01],\n",
      "       [-2.12993819e-01],\n",
      "       [ 9.80987863e-01],\n",
      "       [ 6.05619230e-01],\n",
      "       [-2.10381946e-03],\n",
      "       [-4.34568739e-01],\n",
      "       [ 4.45965287e-01],\n",
      "       [-2.24905205e-01],\n",
      "       [-8.38360019e-02],\n",
      "       [-2.23697102e-01],\n",
      "       [-1.66845343e-01],\n",
      "       [-2.20958754e-01],\n",
      "       [-5.78562805e-01],\n",
      "       [ 1.10056269e-01],\n",
      "       [-1.23275483e+00],\n",
      "       [-6.17242259e-01],\n",
      "       [ 1.52284211e+00],\n",
      "       [ 9.96435420e-02],\n",
      "       [ 3.03744138e-01],\n",
      "       [ 7.70300256e-01],\n",
      "       [-1.24569496e-01],\n",
      "       [ 5.13789897e-01],\n",
      "       [ 2.65060805e-02],\n",
      "       [ 1.02552834e+00],\n",
      "       [ 1.32915813e+00],\n",
      "       [-1.08674619e+00],\n",
      "       [-2.54248839e-01],\n",
      "       [ 5.72784583e-01],\n",
      "       [-2.34985770e-01],\n",
      "       [ 1.21300984e-01],\n",
      "       [-1.36340583e-01],\n",
      "       [ 2.92187841e-01],\n",
      "       [-9.12316808e-01],\n",
      "       [ 2.89070330e-01],\n",
      "       [ 1.89511730e-01],\n",
      "       [-1.80649929e-02],\n",
      "       [ 5.08095575e-01],\n",
      "       [-1.34300780e-01],\n",
      "       [ 6.97119483e-01],\n",
      "       [ 3.72484570e-01],\n",
      "       [-2.58338473e+00],\n",
      "       [-1.02427645e+00],\n",
      "       [ 4.15030049e-01],\n",
      "       [-2.49987549e-01],\n",
      "       [-1.26817470e+00],\n",
      "       [ 3.21942363e-01],\n",
      "       [-2.94257878e-01],\n",
      "       [-1.93639320e-01],\n",
      "       [ 8.90901379e-01],\n",
      "       [ 1.94307630e-01],\n",
      "       [-3.26589332e-01],\n",
      "       [-1.02964904e-01],\n",
      "       [-2.98366809e-02],\n",
      "       [-1.15240357e+00],\n",
      "       [ 1.18269004e+00],\n",
      "       [-1.11981456e+00]]), 'b': -0.02496012915804742, 'cost': [17.521449829570088, 2.76446800114898, 1.7077073131161755, 1.3181980108486504, 1.1097449981122542, 0.9848160706686544, 0.8947005701241062, 0.8227212855013424, 0.7637066175679932, 0.7137698202572244], 'training_accuracy': 0.8663697104677061, 'test_accuracy': 0.8644444444444445}\n"
     ]
    }
   ],
   "source": [
    "d = model(X_train, y_train, X_test, y_test, num_iterations = 1000, learning_rate = 1e-2,print_cost = True)\n",
    "print(d)"
   ]
  },
  {
   "cell_type": "code",
   "execution_count": 16,
   "metadata": {},
   "outputs": [
    {
     "data": {
      "image/png": "[encoded data removed]",
      "text/plain": [
       "<Figure size 432x288 with 1 Axes>"
      ]
     },
     "metadata": {
      "needs_background": "light"
     },
     "output_type": "display_data"
    }
   ],
   "source": [
    "plt.plot(d['cost'])\n",
    "plt.show()"
   ]
  },
  {
   "cell_type": "code",
   "execution_count": 17,
   "metadata": {},
   "outputs": [],
   "source": [
    "d1 = model(X_train, y_train, X_test, y_test, num_iterations = 1000, learning_rate = 1e-2,print_cost = False)\n",
    "d2 = model(X_train, y_train, X_test, y_test, num_iterations = 1000, learning_rate = 1e-4,print_cost = False)\n",
    "d3 = model(X_train, y_train, X_test, y_test, num_iterations = 1000, learning_rate = 1e-6,print_cost = False)"
   ]
  },
  {
   "cell_type": "code",
   "execution_count": 18,
   "metadata": {},
   "outputs": [
    {
     "data": {
      "image/png": "[encoded data removed]",
      "text/plain": [
       "<Figure size 432x288 with 1 Axes>"
      ]
     },
     "metadata": {
      "needs_background": "light"
     },
     "output_type": "display_data"
    }
   ],
   "source": [
    "plt.plot(d1['cost'], color = 'red')\n",
    "plt.plot(d2['cost'], color = 'green')\n",
    "plt.plot(d3['cost'], color = 'blue')\n",
    "plt.show()"
   ]
  },
  {
   "cell_type": "code",
   "execution_count": 19,
   "metadata": {},
   "outputs": [
    {
     "name": "stdout",
     "output_type": "stream",
     "text": [
      "迭代500次，测试准确率0.8355555555555556\n",
      "迭代1000次，测试准确率0.8222222222222222\n",
      "迭代5000次，测试准确率0.8955555555555555\n"
     ]
    }
   ],
   "source": [
    "d4 = model(X_train, y_train, X_test, y_test, num_iterations = 500, learning_rate = 1e-2,print_cost = False)\n",
    "d5 = model(X_train, y_train, X_test, y_test, num_iterations = 1000, learning_rate = 1e-2,print_cost = False)\n",
    "d6 = model(X_train, y_train, X_test, y_test, num_iterations = 5000, learning_rate = 1e-2,print_cost = False)\n",
    "print('迭代{}次，测试准确率{}'.format('500',d4['test_accuracy']))\n",
    "print('迭代{}次，测试准确率{}'.format('1000',d5['test_accuracy']))\n",
    "print('迭代{}次，测试准确率{}'.format('5000',d6['test_accuracy']))"
   ]
  },
  {
   "cell_type": "code",
   "execution_count": null,
   "metadata": {},
   "outputs": [],
   "source": []
  }
 ],
 "metadata": {
  "kernelspec": {
   "display_name": "Python 3",
   "language": "python",
   "name": "python3"
  },
  "language_info": {
   "codemirror_mode": {
    "name": "ipython",
    "version": 3
   },
   "file_extension": ".py",
   "mimetype": "text/x-python",
   "name": "python",
   "nbconvert_exporter": "python",
   "pygments_lexer": "ipython3",
   "version": "3.7.4"
  }
 },
 "nbformat": 4,
 "nbformat_minor": 2
}
