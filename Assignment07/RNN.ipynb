{
 "cells": [
  {
   "cell_type": "markdown",
   "metadata": {},
   "source": [
    "### 国籍分类"
   ]
  },
  {
   "cell_type": "code",
   "execution_count": 210,
   "metadata": {},
   "outputs": [
    {
     "name": "stdout",
     "output_type": "stream",
     "text": [
      "['C:\\\\Users\\\\asus\\\\Desktop\\\\lesson\\\\07seventh_lesson\\\\assignment-07数据集\\\\data\\\\names\\\\Arabic.txt', 'C:\\\\Users\\\\asus\\\\Desktop\\\\lesson\\\\07seventh_lesson\\\\assignment-07数据集\\\\data\\\\names\\\\Chinese.txt', 'C:\\\\Users\\\\asus\\\\Desktop\\\\lesson\\\\07seventh_lesson\\\\assignment-07数据集\\\\data\\\\names\\\\Czech.txt', 'C:\\\\Users\\\\asus\\\\Desktop\\\\lesson\\\\07seventh_lesson\\\\assignment-07数据集\\\\data\\\\names\\\\Dutch.txt', 'C:\\\\Users\\\\asus\\\\Desktop\\\\lesson\\\\07seventh_lesson\\\\assignment-07数据集\\\\data\\\\names\\\\English.txt', 'C:\\\\Users\\\\asus\\\\Desktop\\\\lesson\\\\07seventh_lesson\\\\assignment-07数据集\\\\data\\\\names\\\\French.txt', 'C:\\\\Users\\\\asus\\\\Desktop\\\\lesson\\\\07seventh_lesson\\\\assignment-07数据集\\\\data\\\\names\\\\German.txt', 'C:\\\\Users\\\\asus\\\\Desktop\\\\lesson\\\\07seventh_lesson\\\\assignment-07数据集\\\\data\\\\names\\\\Greek.txt', 'C:\\\\Users\\\\asus\\\\Desktop\\\\lesson\\\\07seventh_lesson\\\\assignment-07数据集\\\\data\\\\names\\\\Irish.txt', 'C:\\\\Users\\\\asus\\\\Desktop\\\\lesson\\\\07seventh_lesson\\\\assignment-07数据集\\\\data\\\\names\\\\Italian.txt', 'C:\\\\Users\\\\asus\\\\Desktop\\\\lesson\\\\07seventh_lesson\\\\assignment-07数据集\\\\data\\\\names\\\\Japanese.txt', 'C:\\\\Users\\\\asus\\\\Desktop\\\\lesson\\\\07seventh_lesson\\\\assignment-07数据集\\\\data\\\\names\\\\Korean.txt', 'C:\\\\Users\\\\asus\\\\Desktop\\\\lesson\\\\07seventh_lesson\\\\assignment-07数据集\\\\data\\\\names\\\\Polish.txt', 'C:\\\\Users\\\\asus\\\\Desktop\\\\lesson\\\\07seventh_lesson\\\\assignment-07数据集\\\\data\\\\names\\\\Portuguese.txt', 'C:\\\\Users\\\\asus\\\\Desktop\\\\lesson\\\\07seventh_lesson\\\\assignment-07数据集\\\\data\\\\names\\\\Russian.txt', 'C:\\\\Users\\\\asus\\\\Desktop\\\\lesson\\\\07seventh_lesson\\\\assignment-07数据集\\\\data\\\\names\\\\Scottish.txt', 'C:\\\\Users\\\\asus\\\\Desktop\\\\lesson\\\\07seventh_lesson\\\\assignment-07数据集\\\\data\\\\names\\\\Spanish.txt', 'C:\\\\Users\\\\asus\\\\Desktop\\\\lesson\\\\07seventh_lesson\\\\assignment-07数据集\\\\data\\\\names\\\\Vietnamese.txt']\n"
     ]
    }
   ],
   "source": [
    "# 打印出所有文件\n",
    "from io import open\n",
    "import glob\n",
    "import os\n",
    "import matplotlib.pyplot as plt\n",
    "\n",
    "\n",
    "#  glob.glob()返回的是列表 list类型。是所有路径下的符合条件的文件名的列表。\n",
    "def find_files(path): \n",
    "    return glob.glob(path)\n",
    "\n",
    "print(find_files(r'C:\\Users\\asus\\Desktop\\lesson\\07seventh_lesson\\assignment-07数据集\\data\\names/*.txt'))\n"
   ]
  },
  {
   "cell_type": "code",
   "execution_count": 211,
   "metadata": {},
   "outputs": [
    {
     "name": "stdout",
     "output_type": "stream",
     "text": [
      "Slusarski\n"
     ]
    }
   ],
   "source": [
    "# 转换成ASCII码\n",
    "import unicodedata\n",
    "import string\n",
    "\n",
    "all_letters = string.ascii_letters + \" .,;'\"\n",
    "# ascii_letters是生成所有字母，从a-z，小写26+大写26\n",
    "n_letters = len(all_letters) \n",
    "\n",
    "# normalize() 第一个参数指定字符串标准化的方式，这里为NFD\n",
    "# unicodedata.category():把一个字符返回它在UNICODE里分类的类型 \n",
    "# [Mn] Mark, Nonspacing\n",
    "def unicode_2_Ascii(s):\n",
    "    return ''.join(\n",
    "        c for c in unicodedata.normalize('NFD', s)\n",
    "        if unicodedata.category(c) != 'Mn'\n",
    "        and c in all_letters\n",
    "    )\n",
    "\n",
    "print(unicode_2_Ascii('Ślusàrski'))"
   ]
  },
  {
   "cell_type": "code",
   "execution_count": 212,
   "metadata": {},
   "outputs": [],
   "source": [
    "# 建立类别和对于的名字的dictionary对应\n",
    "category_lines = {}\n",
    "all_categories = []\n",
    "# 读取文件 按行划分\n",
    "def read_lines(filename):\n",
    "    lines = open(filename, encoding='utf-8').read().strip().split('\\n')\n",
    "    return [unicode_2_Ascii(line) for line in lines]\n",
    "\n",
    "# os.path.splitext(“文件路径”)    分离文件名与扩展名\n",
    "# os.path.basename(filename)获取对应路径下文件的名字\n",
    "for filename in find_files(r'C:\\Users\\asus\\Desktop\\lesson\\07seventh_lesson\\assignment-07数据集\\data\\names/*.txt'):\n",
    "    category = os.path.splitext(os.path.basename(filename))[0]\n",
    "#     print(category)\n",
    "    all_categories.append(category)\n",
    "    lines = read_lines(filename)\n",
    "    category_lines[category] = lines\n",
    "\n",
    "n_categories = len(all_categories)"
   ]
  },
  {
   "cell_type": "code",
   "execution_count": 213,
   "metadata": {},
   "outputs": [
    {
     "data": {
      "text/plain": [
       "18"
      ]
     },
     "execution_count": 213,
     "metadata": {},
     "output_type": "execute_result"
    }
   ],
   "source": [
    "n_categories"
   ]
  },
  {
   "cell_type": "code",
   "execution_count": 214,
   "metadata": {},
   "outputs": [
    {
     "data": {
      "text/plain": [
       "['Ang', 'AuYong', 'Bai', 'Ban', 'Bao', 'Bei', 'Bian', 'Bui', 'Cai', 'Cao']"
      ]
     },
     "execution_count": 214,
     "metadata": {},
     "output_type": "execute_result"
    }
   ],
   "source": [
    "category_lines['Chinese'][:10]"
   ]
  },
  {
   "cell_type": "code",
   "execution_count": 215,
   "metadata": {},
   "outputs": [
    {
     "name": "stdout",
     "output_type": "stream",
     "text": [
      "35\n",
      "torch.Size([5, 1, 57])\n"
     ]
    }
   ],
   "source": [
    "# pytorch向量化\n",
    "import torch\n",
    "\n",
    "# 获取letter在all_letters中索引\n",
    "def letter_to_index(letter):\n",
    "    return all_letters.find(letter)\n",
    "\n",
    "# 将letter转为 1*n_letters 的tensor表示一个字母，一个one-hot向量所有位置都填充为0，并在其表示的字母的位置表示为1\n",
    "def letter_to_tensor(letter):\n",
    "    tensor = torch.zeros(1, n_letters)\n",
    "    tensor[0][letter_to_index(letter)] = 1\n",
    "    return tensor\n",
    "\n",
    "# 将line转为 len(line)*1*n_letters 的tensor表示一个单词\n",
    "def line_to_tensor(line):\n",
    "    tensor = torch.zeros(len(line), 1, n_letters)\n",
    "    for li, letter in enumerate(line):\n",
    "        tensor[li][0][letter_to_index(letter)] = 1\n",
    "    return tensor\n",
    "\n",
    "print(letter_to_index('J'))\n",
    "print(line_to_tensor('Jones').size())\n"
   ]
  },
  {
   "cell_type": "code",
   "execution_count": 216,
   "metadata": {},
   "outputs": [
    {
     "data": {
      "text/plain": [
       "tensor([[[0., 0., 0., 0., 0., 0., 0., 0., 0., 0., 0., 0., 0., 0., 0., 0., 0.,\n",
       "          0., 0., 0., 0., 0., 0., 0., 0., 0., 0., 0., 0., 0., 0., 0., 0., 0.,\n",
       "          0., 1., 0., 0., 0., 0., 0., 0., 0., 0., 0., 0., 0., 0., 0., 0., 0.,\n",
       "          0., 0., 0., 0., 0., 0.]],\n",
       "\n",
       "        [[0., 0., 0., 0., 0., 0., 0., 0., 0., 0., 0., 0., 0., 0., 1., 0., 0.,\n",
       "          0., 0., 0., 0., 0., 0., 0., 0., 0., 0., 0., 0., 0., 0., 0., 0., 0.,\n",
       "          0., 0., 0., 0., 0., 0., 0., 0., 0., 0., 0., 0., 0., 0., 0., 0., 0.,\n",
       "          0., 0., 0., 0., 0., 0.]],\n",
       "\n",
       "        [[0., 0., 0., 0., 0., 0., 0., 0., 0., 0., 0., 0., 0., 1., 0., 0., 0.,\n",
       "          0., 0., 0., 0., 0., 0., 0., 0., 0., 0., 0., 0., 0., 0., 0., 0., 0.,\n",
       "          0., 0., 0., 0., 0., 0., 0., 0., 0., 0., 0., 0., 0., 0., 0., 0., 0.,\n",
       "          0., 0., 0., 0., 0., 0.]],\n",
       "\n",
       "        [[0., 0., 0., 0., 1., 0., 0., 0., 0., 0., 0., 0., 0., 0., 0., 0., 0.,\n",
       "          0., 0., 0., 0., 0., 0., 0., 0., 0., 0., 0., 0., 0., 0., 0., 0., 0.,\n",
       "          0., 0., 0., 0., 0., 0., 0., 0., 0., 0., 0., 0., 0., 0., 0., 0., 0.,\n",
       "          0., 0., 0., 0., 0., 0.]],\n",
       "\n",
       "        [[0., 0., 0., 0., 0., 0., 0., 0., 0., 0., 0., 0., 0., 0., 0., 0., 0.,\n",
       "          0., 1., 0., 0., 0., 0., 0., 0., 0., 0., 0., 0., 0., 0., 0., 0., 0.,\n",
       "          0., 0., 0., 0., 0., 0., 0., 0., 0., 0., 0., 0., 0., 0., 0., 0., 0.,\n",
       "          0., 0., 0., 0., 0., 0.]]])"
      ]
     },
     "execution_count": 216,
     "metadata": {},
     "output_type": "execute_result"
    }
   ],
   "source": [
    "line_to_tensor('Jones')"
   ]
  },
  {
   "cell_type": "code",
   "execution_count": 217,
   "metadata": {},
   "outputs": [],
   "source": [
    "# 构建rnn\n",
    "import torch.nn as nn\n",
    "\n",
    "class RNN(nn.Module):\n",
    "    def __init__(self, input_size, hidden_size, output_size):\n",
    "        # 对继承自父类的属性进行初始化\n",
    "        super(RNN, self).__init__()\n",
    "        \n",
    "        self.hidden_size = hidden_size\n",
    "\n",
    "        self.i2h = nn.Linear(input_size + hidden_size, hidden_size)\n",
    "        self.i2o = nn.Linear(input_size + hidden_size, output_size)\n",
    "        self.softmax = nn.LogSoftmax(dim=1)\n",
    "\n",
    "    def forward(self, input, hidden):\n",
    "        # torch.cat是将两个张量（tensor）拼接在一起，0为行，1为列\n",
    "        combined = torch.cat((input, hidden), 1)\n",
    "        hidden = self.i2h(combined)\n",
    "        output = self.i2o(combined)\n",
    "        output = self.softmax(output)\n",
    "        return output, hidden\n",
    "\n",
    "    def initHidden(self):\n",
    "        return torch.zeros(1, self.hidden_size)\n",
    "\n",
    "n_hidden = 128"
   ]
  },
  {
   "cell_type": "code",
   "execution_count": 218,
   "metadata": {},
   "outputs": [],
   "source": [
    "rnn = RNN(n_letters, n_hidden, n_categories)"
   ]
  },
  {
   "cell_type": "code",
   "execution_count": 219,
   "metadata": {},
   "outputs": [],
   "source": [
    "input = letter_to_tensor('A')\n",
    "hidden =torch.zeros(1, n_hidden)\n",
    "\n",
    "output, next_hidden = rnn.forward(input, hidden)"
   ]
  },
  {
   "cell_type": "code",
   "execution_count": 220,
   "metadata": {},
   "outputs": [
    {
     "data": {
      "text/plain": [
       "tensor([[-2.8530, -2.8828, -2.9146, -2.8778, -2.8501, -2.9002, -2.9111, -2.9453,\n",
       "         -2.9233, -2.8849, -2.7915, -2.9208, -2.9789, -2.9209, -2.8907, -2.9067,\n",
       "         -2.8103, -2.8812]], grad_fn=<LogSoftmaxBackward>)"
      ]
     },
     "execution_count": 220,
     "metadata": {},
     "output_type": "execute_result"
    }
   ],
   "source": [
    "output"
   ]
  },
  {
   "cell_type": "code",
   "execution_count": 221,
   "metadata": {},
   "outputs": [
    {
     "data": {
      "text/plain": [
       "tensor([[-0.1153,  0.0792,  0.0202,  0.0989, -0.0112, -0.0385,  0.0393, -0.0924,\n",
       "          0.0807,  0.0206, -0.1031,  0.0019, -0.0828, -0.0689, -0.0445,  0.0106,\n",
       "         -0.1231,  0.0907, -0.0643, -0.1129, -0.0826,  0.0134, -0.0727, -0.0124,\n",
       "          0.0649, -0.1153,  0.0570,  0.0222, -0.0014,  0.0907, -0.0737, -0.0820,\n",
       "         -0.0472, -0.0624,  0.0400,  0.1157, -0.0315,  0.0489,  0.0982,  0.0497,\n",
       "          0.0032,  0.0628, -0.0736, -0.0168,  0.0558, -0.0730,  0.0880,  0.0450,\n",
       "          0.0437,  0.0024,  0.0165,  0.0076,  0.0763,  0.1043,  0.0239, -0.0278,\n",
       "          0.0008,  0.1198,  0.0728, -0.1001, -0.1148, -0.0146, -0.1343, -0.0683,\n",
       "         -0.0126,  0.0519,  0.0443, -0.0063, -0.0999,  0.0379,  0.1108, -0.0681,\n",
       "          0.0394,  0.0410,  0.0364, -0.0338, -0.0159,  0.0105, -0.0977, -0.0221,\n",
       "          0.0473,  0.0470,  0.0222, -0.0153,  0.0829, -0.0498, -0.0952, -0.0658,\n",
       "         -0.0609, -0.1410,  0.0818, -0.0505,  0.0140, -0.0709, -0.0940,  0.0535,\n",
       "          0.1138,  0.1173, -0.0459,  0.1015,  0.0743, -0.0119,  0.0174, -0.0933,\n",
       "          0.0244,  0.0147, -0.0383,  0.0796, -0.0546,  0.0110,  0.0043, -0.0250,\n",
       "         -0.0163,  0.0032, -0.1004, -0.0797,  0.0924,  0.0314,  0.0033, -0.0073,\n",
       "         -0.0312, -0.0370,  0.0757,  0.0864,  0.0790, -0.0567, -0.0359, -0.0613]],\n",
       "       grad_fn=<AddmmBackward>)"
      ]
     },
     "execution_count": 221,
     "metadata": {},
     "output_type": "execute_result"
    }
   ],
   "source": [
    "next_hidden"
   ]
  },
  {
   "cell_type": "code",
   "execution_count": 222,
   "metadata": {},
   "outputs": [
    {
     "name": "stdout",
     "output_type": "stream",
     "text": [
      "tensor([[-2.8530, -2.8828, -2.9146, -2.8778, -2.8501, -2.9002, -2.9111, -2.9453,\n",
      "         -2.9233, -2.8849, -2.7915, -2.9208, -2.9789, -2.9209, -2.8907, -2.9067,\n",
      "         -2.8103, -2.8812]], grad_fn=<LogSoftmaxBackward>)\n"
     ]
    }
   ],
   "source": [
    "input = line_to_tensor('Albert')\n",
    "hidden = torch.zeros(1, n_hidden)\n",
    "\n",
    "output, next_hidden = rnn.forward(input[0], hidden)\n",
    "print(output)"
   ]
  },
  {
   "cell_type": "code",
   "execution_count": 223,
   "metadata": {},
   "outputs": [],
   "source": [
    "def category_from_output(output):\n",
    "    # topk(1)函数取指定维度上的最大值，第二个参数dim=1，为按行取，dim=0，为按列取，默认最后一个维度\n",
    "    top_n, top_i = output.topk(1)\n",
    "    # 一个元素张量可以用item得到元素值\n",
    "    category_i = top_i[0].item()\n",
    "    return all_categories[category_i], category_i"
   ]
  },
  {
   "cell_type": "code",
   "execution_count": 224,
   "metadata": {},
   "outputs": [
    {
     "name": "stdout",
     "output_type": "stream",
     "text": [
      "('Japanese', 10)\n"
     ]
    }
   ],
   "source": [
    "print(category_from_output(output))"
   ]
  },
  {
   "cell_type": "code",
   "execution_count": 225,
   "metadata": {},
   "outputs": [
    {
     "name": "stdout",
     "output_type": "stream",
     "text": [
      "category = Chinese / line = Han\n",
      "category = French / line = Martel\n",
      "category = Czech / line = Trampota\n",
      "category = Japanese / line = Kuwabara\n",
      "category = Czech / line = Kulhanek\n",
      "category = French / line = Arthur\n",
      "category = Irish / line = Callaghan\n",
      "category = Greek / line = Haritopoulos\n",
      "category = Scottish / line = White\n",
      "category = Korean / line = Moon\n"
     ]
    }
   ],
   "source": [
    "# 随机生成训练数据\n",
    "import random\n",
    "\n",
    "# random.randint(a,b)，生成的随机数n: a <= n <= b\n",
    "def sample(l):\n",
    "    return l[random.randint(0, len(l) - 1)]\n",
    "\n",
    "def sample_trainning():\n",
    "    category = sample(all_categories)\n",
    "    line = sample(category_lines[category])\n",
    "    category_tensor = torch.tensor([all_categories.index(category)], dtype=torch.long)\n",
    "    line_tensor = line_to_tensor(line)\n",
    "    return category, line, category_tensor, line_tensor\n",
    "\n",
    "for i in range(10):\n",
    "    category, line, category_tensor, line_tensor = sample_trainning()\n",
    "    print('category =', category, '/ line =', line)"
   ]
  },
  {
   "cell_type": "code",
   "execution_count": 226,
   "metadata": {},
   "outputs": [],
   "source": [
    "criterion = nn.CrossEntropyLoss()"
   ]
  },
  {
   "cell_type": "code",
   "execution_count": 227,
   "metadata": {},
   "outputs": [],
   "source": [
    "learning_rate = 0.005 \n",
    "# 学习率过大会爆炸，过小会消失\n",
    "\n",
    "def train(category_tensor, line_tensor):\n",
    "    hidden = rnn.initHidden()\n",
    "    \n",
    "    # 梯度置零\n",
    "    rnn.zero_grad()\n",
    "\n",
    "    for i in range(line_tensor.size()[0]):\n",
    "        output, hidden = rnn.forward(line_tensor[i], hidden)\n",
    "\n",
    "    loss = criterion(output, category_tensor)\n",
    "    loss.backward()\n",
    "\n",
    "    # Add parameters' gradients to their values, multiplied by learning rate\n",
    "    for p in rnn.parameters():\n",
    "        p.data.add_(-learning_rate, p.grad.data)\n",
    "\n",
    "    return output, loss.item()"
   ]
  },
  {
   "cell_type": "code",
   "execution_count": 228,
   "metadata": {},
   "outputs": [
    {
     "name": "stdout",
     "output_type": "stream",
     "text": [
      "1000 10% (0m 2s) 2.8254 Do / Scottish ✗ (Vietnamese)\n",
      "2000 20% (0m 5s) 2.8622 Bui / Japanese ✗ (Vietnamese)\n",
      "3000 30% (0m 7s) 3.0070 Cunningham / Japanese ✗ (Scottish)\n",
      "4000 40% (0m 10s) 1.3697 Frangopoulos / Greek ✓\n",
      "5000 50% (0m 13s) 2.8636 Krebs / Greek ✗ (German)\n",
      "6000 60% (0m 15s) 1.7311 Yoo / Korean ✓\n",
      "7000 70% (0m 18s) 2.5471 Seghers / Portuguese ✗ (Dutch)\n",
      "8000 80% (0m 21s) 1.8991 Vo / Chinese ✗ (Vietnamese)\n",
      "9000 90% (0m 24s) 2.4684 Bedford / French ✗ (English)\n",
      "10000 100% (0m 26s) 1.7464 Esteves / Portuguese ✓\n"
     ]
    }
   ],
   "source": [
    "import time\n",
    "import math\n",
    "\n",
    "n_iters = 10000 # 这个数字你可以调大一些\n",
    "print_every = 1000\n",
    "plot_every = 500\n",
    "\n",
    "\n",
    "# 记录损失用于绘图\n",
    "current_loss = 0\n",
    "all_losses = []\n",
    "\n",
    "# 运行时间\n",
    "def time_since(since):\n",
    "    now = time.time()\n",
    "    s = now - since\n",
    "    m = math.floor(s / 60)\n",
    "    s -= m * 60\n",
    "    return '%dm %ds' % (m, s)\n",
    "\n",
    "start = time.time()\n",
    "\n",
    "for iter in range(1, n_iters + 1):\n",
    "    category, line, category_tensor, line_tensor = sample_trainning()\n",
    "    output, loss = train(category_tensor, line_tensor)\n",
    "    current_loss += loss\n",
    "\n",
    "    # Print iter number, loss, name and guess\n",
    "    if iter % print_every == 0:\n",
    "        guess, guess_i = category_from_output(output)\n",
    "        correct = '✓' if guess == category else '✗ (%s)' % category\n",
    "        print('%d %d%% (%s) %.4f %s / %s %s' % (iter, iter / n_iters * 100, time_since(start), loss, line, guess, correct))\n",
    "\n",
    "    # Add current loss avg to list of losses\n",
    "    if iter % plot_every == 0:\n",
    "        all_losses.append(current_loss / plot_every)\n",
    "        current_loss = 0"
   ]
  },
  {
   "cell_type": "code",
   "execution_count": 229,
   "metadata": {},
   "outputs": [
    {
     "data": {
      "text/plain": [
       "[2.8800274057388306,\n",
       " 2.8606297698020935,\n",
       " 2.8368014006614684,\n",
       " 2.809642644405365,\n",
       " 2.7899490394592283,\n",
       " 2.739898540496826,\n",
       " 2.70212452173233,\n",
       " 2.6553794884681703,\n",
       " 2.574598779261112,\n",
       " 2.521230458974838,\n",
       " 2.4623934410214425,\n",
       " 2.3534689715504644,\n",
       " 2.3847903265953065,\n",
       " 2.3168485907316207,\n",
       " 2.328825580120087,\n",
       " 2.3035310208797455,\n",
       " 2.2697849564552306,\n",
       " 2.2593431421518324,\n",
       " 2.1559461755156515,\n",
       " 2.1866892353892324]"
      ]
     },
     "execution_count": 229,
     "metadata": {},
     "output_type": "execute_result"
    }
   ],
   "source": [
    "all_losses"
   ]
  },
  {
   "cell_type": "code",
   "execution_count": 230,
   "metadata": {},
   "outputs": [],
   "source": [
    "%matplotlib inline"
   ]
  },
  {
   "cell_type": "code",
   "execution_count": 231,
   "metadata": {},
   "outputs": [
    {
     "data": {
      "text/plain": [
       "[<matplotlib.lines.Line2D at 0x1d32da15e88>]"
      ]
     },
     "execution_count": 231,
     "metadata": {},
     "output_type": "execute_result"
    },
    {
     "data": {
      "image/png": "[encoded data removed]",
      "text/plain": [
       "<Figure size 432x288 with 1 Axes>"
      ]
     },
     "metadata": {
      "needs_background": "light"
     },
     "output_type": "display_data"
    }
   ],
   "source": [
    "plt.plot(all_losses)"
   ]
  },
  {
   "cell_type": "code",
   "execution_count": 232,
   "metadata": {},
   "outputs": [
    {
     "name": "stdout",
     "output_type": "stream",
     "text": [
      "\n",
      "> Dovesky\n",
      "(-1.70) Polish\n",
      "(-1.98) Russian\n",
      "(-2.36) English\n",
      "\n",
      "> Jackson\n",
      "(-1.92) Russian\n",
      "(-2.20) Irish\n",
      "(-2.21) English\n",
      "\n",
      "> Satoshi\n",
      "(-1.95) Japanese\n",
      "(-2.09) Italian\n",
      "(-2.13) Polish\n"
     ]
    }
   ],
   "source": [
    "def evaluate(line_tensor):\n",
    "    hidden = rnn.initHidden()\n",
    "\n",
    "    for i in range(line_tensor.size()[0]):\n",
    "        output, hidden = rnn(line_tensor[i], hidden)\n",
    "\n",
    "    return output\n",
    "\n",
    "def predict(input_line, n_predictions=3):\n",
    "    print('\\n> %s' % input_line)\n",
    "    with torch.no_grad():\n",
    "        output = evaluate(line_to_tensor(input_line))\n",
    "\n",
    "        # Get top N categories\n",
    "        topv, topi = output.topk(n_predictions, 1, True)\n",
    "        predictions = []\n",
    "\n",
    "        for i in range(n_predictions):\n",
    "            value = topv[0][i].item()\n",
    "            category_index = topi[0][i].item()\n",
    "            print('(%.2f) %s' % (value, all_categories[category_index]))\n",
    "            predictions.append([value, all_categories[category_index]])\n",
    "\n",
    "predict('Dovesky')\n",
    "predict('Jackson')\n",
    "predict('Satoshi')"
   ]
  },
  {
   "cell_type": "markdown",
   "metadata": {},
   "source": [
    "### 1.两层layersrnn"
   ]
  },
  {
   "cell_type": "code",
   "execution_count": 233,
   "metadata": {},
   "outputs": [],
   "source": [
    "import torch.nn as nn\n",
    "\n",
    "class RNN(nn.Module):\n",
    "    def __init__(self, input_size, hidden_size, output_size):\n",
    "        super(RNN, self).__init__()\n",
    "\n",
    "        self.hidden_size = hidden_size\n",
    "\n",
    "        self.i2h1 = nn.Linear(input_size + hidden_size, hidden_size)\n",
    "        self.i2o1 = nn.Linear(input_size + hidden_size, output_size)\n",
    "        \n",
    "        self.i2h2 = nn.Linear(hidden_size, hidden_size)\n",
    "        self.i2o2 = nn.Linear(output_size, output_size)\n",
    "        \n",
    "        self.softmax = nn.LogSoftmax(dim=1)\n",
    "\n",
    "    def forward(self, input, hidden):\n",
    "        combined = torch.cat((input, hidden), 1)\n",
    "        hidden1 = self.i2h1(combined)\n",
    "        output1 = self.i2o1(combined)\n",
    "        \n",
    "        hidden2 = self.i2h2(hidden1)\n",
    "        output2 = self.i2o2(output1)\n",
    "        output = self.softmax(output2)\n",
    "        return output, hidden\n",
    "\n",
    "    def initHidden(self):\n",
    "        return torch.zeros(1, self.hidden_size)\n",
    "\n",
    "n_hidden = 128"
   ]
  },
  {
   "cell_type": "code",
   "execution_count": 234,
   "metadata": {},
   "outputs": [],
   "source": [
    "twolayers_rnn = RNN(n_letters,n_hidden,n_categories)"
   ]
  },
  {
   "cell_type": "code",
   "execution_count": 235,
   "metadata": {},
   "outputs": [],
   "source": [
    "learning_rate = 0.005 \n",
    "# 学习率过大会爆炸，过小会消失\n",
    "\n",
    "def train(category_tensor, line_tensor):\n",
    "    hidden = twolayers_rnn.initHidden()\n",
    "    \n",
    "    # 梯度置零\n",
    "    rnn.zero_grad()\n",
    "\n",
    "    for i in range(line_tensor.size()[0]):\n",
    "        output, hidden = twolayers_rnn.forward(line_tensor[i], hidden)\n",
    "\n",
    "    loss = criterion(output, category_tensor)\n",
    "    loss.backward()\n",
    "\n",
    "    # Add parameters' gradients to their values, multiplied by learning rate\n",
    "    for p in rnn.parameters():\n",
    "        p.data.add_(-learning_rate, p.grad.data)\n",
    "\n",
    "    return output, loss.item()"
   ]
  },
  {
   "cell_type": "code",
   "execution_count": 236,
   "metadata": {},
   "outputs": [
    {
     "name": "stdout",
     "output_type": "stream",
     "text": [
      "1000 10% (0m 2s) 3.0563 Tempest / Czech ✗ (English)\n",
      "2000 20% (0m 4s) 2.9726 Tieu / Czech ✗ (Vietnamese)\n",
      "3000 30% (0m 6s) 2.9534 Inoue / Czech ✗ (Japanese)\n",
      "4000 40% (0m 7s) 2.6661 Sula / Czech ✓\n",
      "5000 50% (0m 9s) 3.0392 Holzmann / Spanish ✗ (German)\n",
      "6000 60% (0m 11s) 3.0173 Demarchis / Czech ✗ (Greek)\n",
      "7000 70% (0m 13s) 2.9557 Krol / Spanish ✗ (Polish)\n",
      "8000 80% (0m 15s) 3.0018 Rothbauer / Czech ✗ (German)\n",
      "9000 90% (0m 17s) 2.7473 Ferro / Spanish ✗ (Portuguese)\n",
      "10000 100% (0m 19s) 2.7069 Costa / Czech ✗ (Spanish)\n"
     ]
    }
   ],
   "source": [
    "import time\n",
    "import math\n",
    "\n",
    "n_iters = 10000 # 这个数字你可以调大一些\n",
    "print_every = 1000\n",
    "plot_every = 500\n",
    "\n",
    "\n",
    "# Keep track of losses for plotting\n",
    "current_loss = 0\n",
    "all_losses = []\n",
    "\n",
    "def time_since(since):\n",
    "    now = time.time()\n",
    "    s = now - since\n",
    "    m = math.floor(s / 60)\n",
    "    s -= m * 60\n",
    "    return '%dm %ds' % (m, s)\n",
    "\n",
    "start = time.time()\n",
    "\n",
    "for iter in range(1, n_iters + 1):\n",
    "    category, line, category_tensor, line_tensor = sample_trainning()\n",
    "    output, loss = train(category_tensor, line_tensor)\n",
    "    current_loss += loss\n",
    "\n",
    "    # Print iter number, loss, name and guess\n",
    "    if iter % print_every == 0:\n",
    "        guess, guess_i = category_from_output(output)\n",
    "        correct = '✓' if guess == category else '✗ (%s)' % category\n",
    "        print('%d %d%% (%s) %.4f %s / %s %s' % (iter, iter / n_iters * 100, time_since(start), loss, line, guess, correct))\n",
    "\n",
    "    # Add current loss avg to list of losses\n",
    "    if iter % plot_every == 0:\n",
    "        all_losses.append(current_loss / plot_every)\n",
    "        current_loss = 0"
   ]
  },
  {
   "cell_type": "code",
   "execution_count": 237,
   "metadata": {},
   "outputs": [],
   "source": [
    "%matplotlib inline"
   ]
  },
  {
   "cell_type": "code",
   "execution_count": 238,
   "metadata": {},
   "outputs": [
    {
     "data": {
      "text/plain": [
       "[<matplotlib.lines.Line2D at 0x1d328bd3a08>]"
      ]
     },
     "execution_count": 238,
     "metadata": {},
     "output_type": "execute_result"
    },
    {
     "data": {
      "image/png": "[encoded data removed]",
      "text/plain": [
       "<Figure size 432x288 with 1 Axes>"
      ]
     },
     "metadata": {
      "needs_background": "light"
     },
     "output_type": "display_data"
    }
   ],
   "source": [
    "plt.plot(all_losses)"
   ]
  },
  {
   "cell_type": "markdown",
   "metadata": {},
   "source": [
    "### 结果对比 "
   ]
  },
  {
   "cell_type": "markdown",
   "metadata": {},
   "source": [
    "单层layer与多层layers对比，耗时未增加，loss明显增加，并且波动更大。"
   ]
  },
  {
   "cell_type": "markdown",
   "metadata": {},
   "source": [
    "### 2.1 原始的RNN模型改成nn.LSTM"
   ]
  },
  {
   "cell_type": "code",
   "execution_count": 240,
   "metadata": {},
   "outputs": [],
   "source": [
    "lstm = nn.LSTM(n_letters, n_hidden, num_layers=1)"
   ]
  },
  {
   "cell_type": "code",
   "execution_count": 241,
   "metadata": {},
   "outputs": [],
   "source": [
    "criterion = nn.CrossEntropyLoss()"
   ]
  },
  {
   "cell_type": "code",
   "execution_count": 274,
   "metadata": {},
   "outputs": [],
   "source": [
    "learning_rate = 0.005 # If you set this too high, it might explode. If too low, it might not learn\n",
    "\n",
    "def train(category_tensor, line_tensor):\n",
    "\n",
    "    lstm.zero_grad()\n",
    "    h0 = torch.randn(1, 1, 128)\n",
    "    c0 = torch.randn(1, 1, 128)\n",
    "    output, hidden = lstm(line_tensor, (h0,c0))\n",
    "    \n",
    "    for i in range(output.size()[0]):\n",
    "#         output, hidden = lstm(output[i], (h0,c0))\n",
    "        output_1 = output[i]\n",
    "        output_2 = i2o(output_1)\n",
    "        output_3 = softmax(output_2)\n",
    "\n",
    "    loss = criterion(output_3, category_tensor)\n",
    "    loss.backward()\n",
    "\n",
    "    # Add parameters' gradients to their values, multiplied by learning rate\n",
    "    for p in rnn.parameters():\n",
    "        p.data.add_(-learning_rate, p.grad.data)\n",
    "\n",
    "    return output_3, loss.item()"
   ]
  },
  {
   "cell_type": "code",
   "execution_count": 275,
   "metadata": {},
   "outputs": [
    {
     "name": "stdout",
     "output_type": "stream",
     "text": [
      "1000 10% (0m 5s) 2.9564 Lefurgey / Czech ✗ (French)\n",
      "2000 20% (0m 11s) 2.9346 Moles / Japanese ✗ (Spanish)\n",
      "3000 30% (0m 16s) 2.8632 Skala / Russian ✗ (Polish)\n",
      "4000 40% (0m 22s) 2.9278 Freitas / Japanese ✗ (Portuguese)\n",
      "5000 50% (0m 27s) 2.9207 Seighin / Japanese ✗ (Irish)\n",
      "6000 60% (0m 33s) 2.8543 Bishara / Japanese ✗ (Arabic)\n",
      "7000 70% (0m 39s) 2.9448 Tracey / Russian ✗ (Irish)\n",
      "8000 80% (0m 45s) 2.9020 Silcock / Russian ✗ (English)\n",
      "9000 90% (0m 52s) 2.8853 Crawford / Japanese ✗ (Scottish)\n",
      "10000 100% (0m 58s) 2.8749 Liao / Czech ✗ (Chinese)\n"
     ]
    }
   ],
   "source": [
    "import time\n",
    "import math\n",
    "\n",
    "n_iters = 10000 # 这个数字你可以调大一些\n",
    "print_every = 1000\n",
    "plot_every = 500\n",
    "\n",
    "\n",
    "# Keep track of losses for plotting\n",
    "current_loss = 0\n",
    "all_losses = []\n",
    "\n",
    "def time_since(since):\n",
    "    now = time.time()\n",
    "    s = now - since\n",
    "    m = math.floor(s / 60)\n",
    "    s -= m * 60\n",
    "    return '%dm %ds' % (m, s)\n",
    "\n",
    "start = time.time()\n",
    "\n",
    "for iter in range(1, n_iters + 1):\n",
    "    category, line, category_tensor, line_tensor = sample_trainning()\n",
    "    output, loss = train(category_tensor, line_tensor)\n",
    "    current_loss += loss\n",
    "\n",
    "    # Print iter number, loss, name and guess\n",
    "    if iter % print_every == 0:\n",
    "        guess, guess_i = category_from_output(output)\n",
    "        correct = '✓' if guess == category else '✗ (%s)' % category\n",
    "        print('%d %d%% (%s) %.4f %s / %s %s' % (iter, iter / n_iters * 100, time_since(start), loss, line, guess, correct))\n",
    "\n",
    "    # Add current loss avg to list of losses\n",
    "    if iter % plot_every == 0:\n",
    "        all_losses.append(current_loss / plot_every)\n",
    "        current_loss = 0"
   ]
  },
  {
   "cell_type": "code",
   "execution_count": 276,
   "metadata": {},
   "outputs": [],
   "source": [
    "%matplotlib inline"
   ]
  },
  {
   "cell_type": "code",
   "execution_count": 277,
   "metadata": {},
   "outputs": [
    {
     "data": {
      "text/plain": [
       "[<matplotlib.lines.Line2D at 0x1d32dd527c8>]"
      ]
     },
     "execution_count": 277,
     "metadata": {},
     "output_type": "execute_result"
    },
    {
     "data": {
      "image/png": "[encoded data removed]",
      "text/plain": [
       "<Figure size 432x288 with 1 Axes>"
      ]
     },
     "metadata": {
      "needs_background": "light"
     },
     "output_type": "display_data"
    }
   ],
   "source": [
    "plt.plot(all_losses)"
   ]
  },
  {
   "cell_type": "markdown",
   "metadata": {},
   "source": [
    "### 2.2 原始的RNN模型改成nn.GRU"
   ]
  },
  {
   "cell_type": "code",
   "execution_count": 247,
   "metadata": {},
   "outputs": [],
   "source": [
    "rnn_GRU = nn.GRU(n_letters, n_hidden,1) "
   ]
  },
  {
   "cell_type": "code",
   "execution_count": 248,
   "metadata": {},
   "outputs": [],
   "source": [
    "learning_rate = 0.005 # If you set this too high, it might explode. If too low, it might not learn\n",
    "\n",
    "def train_GRU(category_tensor, line_tensor):      #输入类别向量； 姓名的词向量\n",
    "\n",
    "    rnn_GRU.zero_grad()\n",
    "    \n",
    "    input = line_tensor                         # input (seq , batch_size , inp_dim )        \n",
    "    output, hidden = rnn_GRU(input)    # output (seq , batch_size , 128维 )\n",
    "    \n",
    "    for i in range(output.size()[0]):\n",
    "        output_1 = output[i] \n",
    "        output_2 = i2o(output_1)\n",
    "        output_3 = softmax(output_2)\n",
    "   \n",
    "    loss = criterion(output_3, category_tensor)      \n",
    "    loss.backward(retain_graph=True)\n",
    "\n",
    "    # Add parameters' gradients to their values, multiplied by learning rate\n",
    "    for p in rnn_GRU.parameters():\n",
    "        p.data.add_(-learning_rate, p.grad.data)\n",
    "\n",
    "    return output_3, loss.item()"
   ]
  },
  {
   "cell_type": "code",
   "execution_count": 249,
   "metadata": {},
   "outputs": [],
   "source": [
    "criterion = nn.CrossEntropyLoss()  "
   ]
  },
  {
   "cell_type": "code",
   "execution_count": 250,
   "metadata": {},
   "outputs": [
    {
     "name": "stdout",
     "output_type": "stream",
     "text": [
      "1000 10% (0m 5s) 2.8868 Segal / Czech ✗ (French)\n",
      "2000 20% (0m 11s) 2.8917 Chrysanthopoulos / Czech ✗ (Greek)\n",
      "3000 30% (0m 17s) 2.9249 Mohan / Czech ✗ (Irish)\n",
      "4000 40% (0m 23s) 2.9269 Quyen / Czech ✗ (Vietnamese)\n",
      "5000 50% (0m 29s) 2.8479 Tadhgan / Czech ✗ (Irish)\n",
      "6000 60% (0m 35s) 2.8872 Sha / Czech ✗ (Chinese)\n",
      "7000 70% (0m 41s) 2.9423 Trang / Irish ✗ (Vietnamese)\n",
      "8000 80% (0m 46s) 2.7796 Paszek / Polish ✓\n",
      "9000 90% (0m 52s) 2.7432 Damhain / Irish ✓\n",
      "10000 100% (0m 59s) 2.7438 Nowak / Polish ✓\n"
     ]
    }
   ],
   "source": [
    "import time\n",
    "import math\n",
    "\n",
    "n_iters = 10000 # 训练轮次\n",
    "print_every = 1000\n",
    "plot_every = 500\n",
    "\n",
    "# Keep track of losses for plotting\n",
    "current_loss = 0\n",
    "all_losses = []\n",
    "\n",
    "i2o = nn.Linear(128, 18)\n",
    "softmax = nn.LogSoftmax(dim=1)                         #log 输出小于0 dim=1代表对第二维的数据操作\n",
    "\n",
    "def time_since(since):           #输出计算时间\n",
    "    now = time.time()\n",
    "    s = now - since\n",
    "    m = math.floor(s / 60)\n",
    "    s -= m * 60\n",
    "    return '%dm %ds' % (m, s)\n",
    "start = time.time()\n",
    "\n",
    "for iter in range(1, n_iters + 1):\n",
    "    category, line, category_tensor, line_tensor = sample_trainning()    \n",
    "    output, loss = train_GRU(category_tensor, line_tensor)                                   \n",
    "    current_loss += loss\n",
    "\n",
    "    # Print iter number, loss, name and guess\n",
    "    if iter % print_every == 0:\n",
    "        guess, guess_i = category_from_output(output)\n",
    "        correct = '✓' if guess == category else '✗ (%s)' % category\n",
    "        print('%d %d%% (%s) %.4f %s / %s %s' % (iter, iter / n_iters * 100, time_since(start), loss, line, guess, correct))\n",
    "\n",
    "    # Add current loss avg to list of losses\n",
    "    if iter % plot_every == 0:\n",
    "        all_losses.append(current_loss / plot_every)\n",
    "        current_loss = 0"
   ]
  },
  {
   "cell_type": "code",
   "execution_count": 251,
   "metadata": {},
   "outputs": [],
   "source": [
    "%matplotlib inline"
   ]
  },
  {
   "cell_type": "code",
   "execution_count": 252,
   "metadata": {},
   "outputs": [
    {
     "data": {
      "text/plain": [
       "[<matplotlib.lines.Line2D at 0x1d32dbf4c88>]"
      ]
     },
     "execution_count": 252,
     "metadata": {},
     "output_type": "execute_result"
    },
    {
     "data": {
      "image/png": "[encoded data removed]",
      "text/plain": [
       "<Figure size 432x288 with 1 Axes>"
      ]
     },
     "metadata": {
      "needs_background": "light"
     },
     "output_type": "display_data"
    }
   ],
   "source": [
    "plt.plot(all_losses)"
   ]
  },
  {
   "cell_type": "markdown",
   "metadata": {},
   "source": [
    "#### 结果对比"
   ]
  },
  {
   "cell_type": "markdown",
   "metadata": {},
   "source": [
    "LSTM与GRU相比于原始RNN，训练时间更长，loss更高且波动更大"
   ]
  },
  {
   "cell_type": "markdown",
   "metadata": {},
   "source": [
    "### 3.RNN模型变成多层RNN模型"
   ]
  },
  {
   "cell_type": "code",
   "execution_count": 254,
   "metadata": {},
   "outputs": [],
   "source": [
    "rnn_n = nn.RNN(n_letters, n_hidden, 2) "
   ]
  },
  {
   "cell_type": "code",
   "execution_count": 255,
   "metadata": {},
   "outputs": [],
   "source": [
    "learning_rate = 0.005 # If you set this too high, it might explode. If too low, it might not learn\n",
    "\n",
    "def train_n(category_tensor, line_tensor):      #输入类别向量； 姓名的词向量\n",
    "\n",
    "    rnn_n.zero_grad()\n",
    "    input = line_tensor    \n",
    "    output, hidden = rnn_n(input) \n",
    "\n",
    "    for i in range(output.size()[0]):\n",
    "        output_1 = output[i] \n",
    "        output_2 = i2o(output_1)\n",
    "        output_3 = softmax(output_2)\n",
    "   \n",
    "    loss = criterion(output_3, category_tensor)      \n",
    "    loss.backward(retain_graph=True)\n",
    "\n",
    "    # Add parameters' gradients to their values, multiplied by learning rate\n",
    "    for p in rnn_n.parameters():\n",
    "        p.data.add_(-learning_rate, p.grad.data)\n",
    "\n",
    "    return output_3, loss.item()"
   ]
  },
  {
   "cell_type": "code",
   "execution_count": 256,
   "metadata": {},
   "outputs": [],
   "source": [
    "criterion = nn.CrossEntropyLoss() "
   ]
  },
  {
   "cell_type": "code",
   "execution_count": 257,
   "metadata": {},
   "outputs": [
    {
     "name": "stdout",
     "output_type": "stream",
     "text": [
      "1000 10% (0m 6s) 2.9969 Kneller / Russian ✗ (German)\n",
      "2000 20% (0m 12s) 3.0174 Zimmermann / Russian ✗ (German)\n",
      "3000 30% (0m 18s) 2.7123 Chi / Korean ✗ (Chinese)\n",
      "4000 40% (0m 24s) 2.6319 Maille / Arabic ✗ (Irish)\n",
      "5000 50% (0m 30s) 2.0774 Pho / Korean ✗ (Vietnamese)\n",
      "6000 60% (0m 35s) 2.4438 Ajello / Spanish ✗ (Italian)\n",
      "7000 70% (0m 40s) 2.2466 Bekyros / Greek ✓\n",
      "8000 80% (0m 46s) 1.6844 Seo / Chinese ✗ (Korean)\n",
      "9000 90% (0m 51s) 2.7977 Hamacho / Portuguese ✗ (Japanese)\n",
      "10000 100% (0m 57s) 1.6259 Gu / Korean ✓\n"
     ]
    }
   ],
   "source": [
    "import time\n",
    "import math\n",
    "\n",
    "n_iters = 10000 # 训练轮次\n",
    "print_every = 1000\n",
    "plot_every = 500\n",
    "\n",
    "# Keep track of losses for plotting\n",
    "current_loss = 0\n",
    "all_losses = []\n",
    "\n",
    "i2o = nn.Linear(128, 18)\n",
    "softmax = nn.LogSoftmax(dim=1)                         #log 输出小于0 dim=1代表对第二维的数据操作\n",
    "\n",
    "def time_since(since):           #输出计算时间\n",
    "    now = time.time()\n",
    "    s = now - since\n",
    "    m = math.floor(s / 60)\n",
    "    s -= m * 60\n",
    "    return '%dm %ds' % (m, s)\n",
    "start = time.time()\n",
    "\n",
    "for iter in range(1, n_iters + 1):\n",
    "    category, line, category_tensor, line_tensor = sample_trainning()    \n",
    "    output, loss = train_n(category_tensor, line_tensor)                                   \n",
    "    current_loss += loss\n",
    "\n",
    "    # Print iter number, loss, name and guess\n",
    "    if iter % print_every == 0:\n",
    "        guess, guess_i = category_from_output(output)\n",
    "        correct = '✓' if guess == category else '✗ (%s)' % category\n",
    "        print('%d %d%% (%s) %.4f %s / %s %s' % (iter, iter / n_iters * 100, time_since(start), loss, line, guess, correct))\n",
    "\n",
    "    # Add current loss avg to list of losses\n",
    "    if iter % plot_every == 0:\n",
    "        all_losses.append(current_loss / plot_every)\n",
    "        current_loss = 0"
   ]
  },
  {
   "cell_type": "code",
   "execution_count": 258,
   "metadata": {},
   "outputs": [],
   "source": [
    "%matplotlib inline"
   ]
  },
  {
   "cell_type": "code",
   "execution_count": 259,
   "metadata": {},
   "outputs": [
    {
     "data": {
      "text/plain": [
       "[<matplotlib.lines.Line2D at 0x1d32dc67f08>]"
      ]
     },
     "execution_count": 259,
     "metadata": {},
     "output_type": "execute_result"
    },
    {
     "data": {
      "image/png": "[encoded data removed]",
      "text/plain": [
       "<Figure size 432x288 with 1 Axes>"
      ]
     },
     "metadata": {
      "needs_background": "light"
     },
     "output_type": "display_data"
    }
   ],
   "source": [
    "plt.plot(all_losses)"
   ]
  },
  {
   "cell_type": "markdown",
   "metadata": {},
   "source": [
    "#### 结果对比"
   ]
  },
  {
   "cell_type": "markdown",
   "metadata": {},
   "source": [
    "多层RNN与单层RNN相比，运行时间更长，loss更小"
   ]
  },
  {
   "cell_type": "markdown",
   "metadata": {},
   "source": [
    "### 4.nn.NLLLoss来代替crossentropy"
   ]
  },
  {
   "cell_type": "code",
   "execution_count": 261,
   "metadata": {},
   "outputs": [],
   "source": [
    "# 构建rnn\n",
    "import torch.nn as nn\n",
    "\n",
    "class RNN(nn.Module):\n",
    "    def __init__(self, input_size, hidden_size, output_size):\n",
    "        # 对继承自父类的属性进行初始化\n",
    "        super(RNN, self).__init__()\n",
    "        \n",
    "        self.hidden_size = hidden_size\n",
    "\n",
    "        self.i2h = nn.Linear(input_size + hidden_size, hidden_size)\n",
    "        self.i2o = nn.Linear(input_size + hidden_size, output_size)\n",
    "        self.softmax = nn.LogSoftmax(dim=1)\n",
    "\n",
    "    def forward(self, input, hidden):\n",
    "        # torch.cat是将两个张量（tensor）拼接在一起，0为行，1为列\n",
    "        combined = torch.cat((input, hidden), 1)\n",
    "        hidden = self.i2h(combined)\n",
    "        output = self.i2o(combined)\n",
    "        output = self.softmax(output)\n",
    "        return output, hidden\n",
    "\n",
    "    def initHidden(self):\n",
    "        return torch.zeros(1, self.hidden_size)\n",
    "\n",
    "n_hidden = 128"
   ]
  },
  {
   "cell_type": "code",
   "execution_count": 262,
   "metadata": {},
   "outputs": [],
   "source": [
    "rnn = RNN(n_letters, n_hidden, n_categories)"
   ]
  },
  {
   "cell_type": "code",
   "execution_count": 263,
   "metadata": {},
   "outputs": [],
   "source": [
    "criterion = nn.NLLLoss()"
   ]
  },
  {
   "cell_type": "code",
   "execution_count": 264,
   "metadata": {},
   "outputs": [],
   "source": [
    "learning_rate = 0.005 \n",
    "# 学习率过大会爆炸，过小会消失\n",
    "\n",
    "def train(category_tensor, line_tensor):\n",
    "    hidden = rnn.initHidden()\n",
    "    \n",
    "    # 梯度置零\n",
    "    rnn.zero_grad()\n",
    "\n",
    "    for i in range(line_tensor.size()[0]):\n",
    "        output, hidden = rnn.forward(line_tensor[i], hidden)\n",
    "\n",
    "    loss = criterion(output, category_tensor)\n",
    "    loss.backward()\n",
    "\n",
    "    # Add parameters' gradients to their values, multiplied by learning rate\n",
    "    for p in rnn.parameters():\n",
    "        p.data.add_(-learning_rate, p.grad.data)\n",
    "\n",
    "    return output, loss.item()"
   ]
  },
  {
   "cell_type": "code",
   "execution_count": 265,
   "metadata": {},
   "outputs": [
    {
     "name": "stdout",
     "output_type": "stream",
     "text": [
      "1000 10% (0m 2s) 2.9561 Pei / Italian ✗ (Chinese)\n",
      "2000 20% (0m 5s) 2.9651 Sokal / Scottish ✗ (Polish)\n",
      "3000 30% (0m 8s) 2.8733 Qureshi / Polish ✗ (Arabic)\n",
      "4000 40% (0m 11s) 2.4436 Fujimaki / Polish ✗ (Japanese)\n",
      "5000 50% (0m 13s) 2.3055 Shon / Chinese ✗ (Korean)\n",
      "6000 60% (0m 16s) 1.9080 Bui / Chinese ✗ (Vietnamese)\n",
      "7000 70% (0m 19s) 1.9706 Nahas / Arabic ✓\n",
      "8000 80% (0m 22s) 2.7237 Jordan / Irish ✗ (Polish)\n",
      "9000 90% (0m 25s) 0.2359 Giannakos / Greek ✓\n",
      "10000 100% (0m 28s) 2.1633 Bayer / Arabic ✗ (German)\n"
     ]
    }
   ],
   "source": [
    "import time\n",
    "import math\n",
    "\n",
    "n_iters = 10000 # 这个数字你可以调大一些\n",
    "print_every = 1000\n",
    "plot_every = 500\n",
    "\n",
    "\n",
    "# 记录损失用于绘图\n",
    "current_loss = 0\n",
    "all_losses = []\n",
    "\n",
    "# 运行时间\n",
    "def time_since(since):\n",
    "    now = time.time()\n",
    "    s = now - since\n",
    "    m = math.floor(s / 60)\n",
    "    s -= m * 60\n",
    "    return '%dm %ds' % (m, s)\n",
    "\n",
    "start = time.time()\n",
    "\n",
    "for iter in range(1, n_iters + 1):\n",
    "    category, line, category_tensor, line_tensor = sample_trainning()\n",
    "    output, loss = train(category_tensor, line_tensor)\n",
    "    current_loss += loss\n",
    "\n",
    "    # Print iter number, loss, name and guess\n",
    "    if iter % print_every == 0:\n",
    "        guess, guess_i = category_from_output(output)\n",
    "        correct = '✓' if guess == category else '✗ (%s)' % category\n",
    "        print('%d %d%% (%s) %.4f %s / %s %s' % (iter, iter / n_iters * 100, time_since(start), loss, line, guess, correct))\n",
    "\n",
    "    # Add current loss avg to list of losses\n",
    "    if iter % plot_every == 0:\n",
    "        all_losses.append(current_loss / plot_every)\n",
    "        current_loss = 0"
   ]
  },
  {
   "cell_type": "code",
   "execution_count": 266,
   "metadata": {},
   "outputs": [
    {
     "data": {
      "text/plain": [
       "[<matplotlib.lines.Line2D at 0x1d32dcdfe48>]"
      ]
     },
     "execution_count": 266,
     "metadata": {},
     "output_type": "execute_result"
    },
    {
     "data": {
      "image/png": "[encoded data removed]",
      "text/plain": [
       "<Figure size 432x288 with 1 Axes>"
      ]
     },
     "metadata": {
      "needs_background": "light"
     },
     "output_type": "display_data"
    }
   ],
   "source": [
    "%matplotlib inline\n",
    "plt.plot(all_losses)"
   ]
  },
  {
   "cell_type": "code",
   "execution_count": null,
   "metadata": {},
   "outputs": [],
   "source": []
  }
 ],
 "metadata": {
  "kernelspec": {
   "display_name": "Python 3",
   "language": "python",
   "name": "python3"
  },
  "language_info": {
   "codemirror_mode": {
    "name": "ipython",
    "version": 3
   },
   "file_extension": ".py",
   "mimetype": "text/x-python",
   "name": "python",
   "nbconvert_exporter": "python",
   "pygments_lexer": "ipython3",
   "version": "3.7.4"
  }
 },
 "nbformat": 4,
 "nbformat_minor": 2
}
